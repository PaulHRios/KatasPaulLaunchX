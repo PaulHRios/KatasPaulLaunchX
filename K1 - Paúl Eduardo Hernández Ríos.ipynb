{
 "cells": [
  {
   "cell_type": "markdown",
   "metadata": {},
   "source": [
    "Author: Paúl Eduardo Hernández Ríos"
   ]
  },
  {
   "cell_type": "markdown",
   "metadata": {},
   "source": [
    "# Practice 1. Today´s date"
   ]
  },
  {
   "cell_type": "code",
   "execution_count": 1,
   "metadata": {},
   "outputs": [
    {
     "name": "stdout",
     "output_type": "stream",
     "text": [
      "Today's date is: 2022-02-12\n"
     ]
    }
   ],
   "source": [
    "from datetime import date\n",
    "\n",
    "print(\"Today's date is:\",date.today())"
   ]
  },
  {
   "cell_type": "markdown",
   "metadata": {},
   "source": [
    "# Practice 2. Convert parsec to light years"
   ]
  },
  {
   "cell_type": "code",
   "execution_count": 2,
   "metadata": {},
   "outputs": [
    {
     "name": "stdout",
     "output_type": "stream",
     "text": [
      "2.0  parsec, is 6.52312  lightyears\n"
     ]
    }
   ],
   "source": [
    "parsec = 0\n",
    "parsec = input(\"Write the distance in parsec to convert to lightyears: \")\n",
    "parsec = float(parsec)\n",
    "lightyears=float(parsec*3.26156)\n",
    "print(str(parsec) , \" parsec, is \" + str(lightyears) , \" lightyears\")"
   ]
  }
 ],
 "metadata": {
  "interpreter": {
   "hash": "efa0177aa75c7c6137dade5b95f97244408009c15cc590c170b59c54e6064a1a"
  },
  "kernelspec": {
   "display_name": "Python 3.10.2 64-bit",
   "language": "python",
   "name": "python3"
  },
  "language_info": {
   "codemirror_mode": {
    "name": "ipython",
    "version": 3
   },
   "file_extension": ".py",
   "mimetype": "text/x-python",
   "name": "python",
   "nbconvert_exporter": "python",
   "pygments_lexer": "ipython3",
   "version": "3.10.2"
  },
  "orig_nbformat": 4
 },
 "nbformat": 4,
 "nbformat_minor": 2
}

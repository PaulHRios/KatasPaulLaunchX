{
 "cells": [
  {
   "cell_type": "markdown",
   "metadata": {},
   "source": [
    "Author: Paúl Eduardo Hernández Ríos"
   ]
  },
  {
   "cell_type": "markdown",
   "metadata": {},
   "source": [
    "# Practice 1. Distance between planets"
   ]
  },
  {
   "cell_type": "code",
   "execution_count": 1,
   "metadata": {},
   "outputs": [
    {
     "name": "stdout",
     "output_type": "stream",
     "text": [
      "628949330.0 km\n",
      "390810995.0389724 mi\n"
     ]
    }
   ],
   "source": [
    "earthSun = float(149597870) \n",
    "jupiterSun = float(778547200)\n",
    "distance = abs(earthSun-jupiterSun)\n",
    "distanceM = distance/1.609344\n",
    "print(distance, \"km\")\n",
    "print(distanceM,\"mi\")"
   ]
  },
  {
   "cell_type": "markdown",
   "metadata": {},
   "source": [
    "# Practice 2"
   ]
  },
  {
   "cell_type": "code",
   "execution_count": 3,
   "metadata": {},
   "outputs": [
    {
     "name": "stdout",
     "output_type": "stream",
     "text": [
      "628949330.0 km\n",
      "390810995.0389724 mi\n"
     ]
    }
   ],
   "source": [
    "planet1 = input(\"Enter the distance to the sun of the first planet in km\")\n",
    "planet1=float(planet1)\n",
    "planet2 = input(\"Enter the distance to the sun of the second planet in km\")\n",
    "planet2=float(planet2)\n",
    "distance= abs(planet1-planet2)\n",
    "distanceM = distance/1.609344\n",
    "print(distance, \"km\")\n",
    "print(distanceM,\"mi\")"
   ]
  }
 ],
 "metadata": {
  "interpreter": {
   "hash": "efa0177aa75c7c6137dade5b95f97244408009c15cc590c170b59c54e6064a1a"
  },
  "kernelspec": {
   "display_name": "Python 3.10.2 64-bit",
   "language": "python",
   "name": "python3"
  },
  "language_info": {
   "codemirror_mode": {
    "name": "ipython",
    "version": 3
   },
   "file_extension": ".py",
   "mimetype": "text/x-python",
   "name": "python",
   "nbconvert_exporter": "python",
   "pygments_lexer": "ipython3",
   "version": "3.10.2"
  },
  "orig_nbformat": 4
 },
 "nbformat": 4,
 "nbformat_minor": 2
}

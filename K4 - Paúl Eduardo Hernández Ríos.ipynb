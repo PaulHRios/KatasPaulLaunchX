{
 "cells": [
  {
   "cell_type": "markdown",
   "metadata": {},
   "source": [
    "Author: Paúl Eduardo Hernández Ríos"
   ]
  },
  {
   "cell_type": "markdown",
   "metadata": {},
   "source": [
    "# Practice 1. Fact identifier\n",
    "Program to search and find key sentences of a text."
   ]
  },
  {
   "cell_type": "code",
   "execution_count": 10,
   "metadata": {},
   "outputs": [],
   "source": [
    "text = (\"Interesting facts about the Moon. The Moon is Earth's only satellite. There are several interesting facts about the Moon and how it affects life here on Earth. On average, the Moon moves 4cm away from the Earth every year. This yearly drift is not significant enough to cause immediate effects on Earth. The highest daylight temperature of the Moon is 127 C.\")\n",
    "sentences = text.split('.')\n",
    "words = [\"average\", \"temperature\", \"distance\",\"satellite\"]"
   ]
  },
  {
   "cell_type": "code",
   "execution_count": 11,
   "metadata": {},
   "outputs": [
    {
     "name": "stdout",
     "output_type": "stream",
     "text": [
      " The Moon is Earth's only satellite\n",
      " On average, the Moon moves 4cm away from the Earth every year\n",
      " The highest daylight temperature of the Moon is 127 C\n"
     ]
    }
   ],
   "source": [
    "for sentence in sentences:\n",
    "    for word in words:\n",
    "        if word in sentence:\n",
    "            print(sentence)"
   ]
  },
  {
   "cell_type": "code",
   "execution_count": 19,
   "metadata": {},
   "outputs": [
    {
     "name": "stdout",
     "output_type": "stream",
     "text": [
      " The highest daylight temperature of the Moon is 127 Celsius\n"
     ]
    }
   ],
   "source": [
    "words = [\"temperature\"]\n",
    "for sentence in sentences:\n",
    "    for word in words:\n",
    "        if word in sentence:\n",
    "             print(sentence.replace(' C', ' Celsius'))"
   ]
  },
  {
   "cell_type": "markdown",
   "metadata": {},
   "source": [
    "# Practice 2. Text format"
   ]
  },
  {
   "cell_type": "code",
   "execution_count": 20,
   "metadata": {},
   "outputs": [],
   "source": [
    "#Data\n",
    "planet = 'Mars '\n",
    "gravity  = 0.00143\n",
    "name = 'Ganymede'"
   ]
  },
  {
   "cell_type": "code",
   "execution_count": 21,
   "metadata": {},
   "outputs": [],
   "source": [
    "# title\n",
    "title = f'Gravity data on {name}'"
   ]
  },
  {
   "cell_type": "code",
   "execution_count": 22,
   "metadata": {},
   "outputs": [],
   "source": [
    "# Create the template\n",
    "facts = f\"\"\"{'-'*80}\n",
    "Planet name: {planet}\n",
    "Gravity at {name}: {gravity * 1000} m/s2\n",
    "\"\"\""
   ]
  },
  {
   "cell_type": "code",
   "execution_count": 26,
   "metadata": {},
   "outputs": [
    {
     "name": "stdout",
     "output_type": "stream",
     "text": [
      "Gravity Data On Ganymede \n",
      "--------------------------------------------------------------------------------\n",
      "Planet name: Mars \n",
      "Gravity at Ganymede: 1.4300000000000002 m/s2\n",
      " \n",
      "\n"
     ]
    }
   ],
   "source": [
    "# Union of strings\n",
    "template = f\"\"\"{title.title()} \n",
    "{facts} \n",
    "\"\"\" \n",
    "print(template)"
   ]
  },
  {
   "cell_type": "code",
   "execution_count": 30,
   "metadata": {},
   "outputs": [
    {
     "name": "stdout",
     "output_type": "stream",
     "text": [
      "\n",
      "Gravity data on: Ganymede\n",
      "-------------------------------------------------------------------------------\n",
      "Planet name: Mars \n",
      "Gravity at Ganymede: 1.4300000000000002 m/s2\n",
      "\n"
     ]
    }
   ],
   "source": [
    "new_template = \"\"\"\n",
    "Gravity data on: {name}\n",
    "-------------------------------------------------------------------------------\n",
    "Planet name: {planet}\n",
    "Gravity at {name}: {gravity} m/s2\n",
    "\"\"\"\n",
    "print(new_template.format(name=name, planet=planet, gravity=gravity*1000))"
   ]
  }
 ],
 "metadata": {
  "interpreter": {
   "hash": "efa0177aa75c7c6137dade5b95f97244408009c15cc590c170b59c54e6064a1a"
  },
  "kernelspec": {
   "display_name": "Python 3.10.2 64-bit",
   "language": "python",
   "name": "python3"
  },
  "language_info": {
   "codemirror_mode": {
    "name": "ipython",
    "version": 3
   },
   "file_extension": ".py",
   "mimetype": "text/x-python",
   "name": "python",
   "nbconvert_exporter": "python",
   "pygments_lexer": "ipython3",
   "version": "3.10.2"
  },
  "orig_nbformat": 4
 },
 "nbformat": 4,
 "nbformat_minor": 2
}

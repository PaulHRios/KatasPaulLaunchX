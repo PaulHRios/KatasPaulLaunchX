{
 "cells": [
  {
   "cell_type": "markdown",
   "metadata": {},
   "source": [
    "Author: Paúl Eduardo Hernández Ríos"
   ]
  },
  {
   "cell_type": "markdown",
   "metadata": {},
   "source": [
    "# Practice 1. Work with arguments in functions"
   ]
  },
  {
   "cell_type": "code",
   "execution_count": 2,
   "metadata": {},
   "outputs": [
    {
     "name": "stdout",
     "output_type": "stream",
     "text": [
      "Fuel Report:\n",
      "    Average: 78.33333333333333%\n",
      "    Tank #1: 80%\n",
      "    Tank #2: 70%\n",
      "    Tank #3: 85% \n",
      "    \n"
     ]
    }
   ],
   "source": [
    "def generate_report(Tank1, Tank2, Tank3):\n",
    "    total_average = (Tank1 + Tank2 + Tank3) / 3\n",
    "    return f\"\"\"Fuel Report:\n",
    "    Average: {total_average}%\n",
    "    Tank #1: {Tank1}%\n",
    "    Tank #2: {Tank2}%\n",
    "    Tank #3: {Tank3}% \n",
    "    \"\"\"\n",
    "\n",
    "print(generate_report(80, 70, 85))"
   ]
  },
  {
   "cell_type": "code",
   "execution_count": 3,
   "metadata": {},
   "outputs": [
    {
     "data": {
      "text/plain": [
       "82.0"
      ]
     },
     "execution_count": 3,
     "metadata": {},
     "output_type": "execute_result"
    }
   ],
   "source": [
    "def average(values):\n",
    "    total = sum(values)\n",
    "    number_of_items = len(values)\n",
    "    return total / number_of_items\n",
    "\n",
    "average([80, 85, 81]) "
   ]
  },
  {
   "cell_type": "code",
   "execution_count": 4,
   "metadata": {},
   "outputs": [
    {
     "name": "stdout",
     "output_type": "stream",
     "text": [
      "Fuel:\n",
      "    Total Average: 78.0%\n",
      "    Tank #1: 88%\n",
      "    Tank #2: 76%\n",
      "    Tank #3: 70% \n",
      "    \n"
     ]
    }
   ],
   "source": [
    "def generate_report(Tank1, Tank2, Tank3):\n",
    "    return f\"\"\"Fuel:\n",
    "    Total Average: {average([Tank1, Tank2, Tank3])}%\n",
    "    Tank #1: {Tank1}%\n",
    "    Tank #2: {Tank2}%\n",
    "    Tank #3: {Tank3}% \n",
    "    \"\"\"\n",
    "\n",
    "print(generate_report(88, 76, 70))"
   ]
  },
  {
   "cell_type": "markdown",
   "metadata": {},
   "source": [
    "# Practice 2. Work with keyword arguments"
   ]
  },
  {
   "cell_type": "code",
   "execution_count": 3,
   "metadata": {},
   "outputs": [
    {
     "name": "stdout",
     "output_type": "stream",
     "text": [
      "\n",
      "    Mission to Moon\n",
      "    Total travel time: 8010 minutes\n",
      "    Total fuel left: 390000 gallons\n",
      "    \n"
     ]
    }
   ],
   "source": [
    "def mission_report(preLT, flyT, dest, extTnk, mainTnk):\n",
    "    return f\"\"\"\n",
    "    Mission to {dest}\n",
    "    Total travel time: {preLT + flyT} minutes\n",
    "    Total fuel left: {extTnk + mainTnk} gallons\n",
    "    \"\"\"\n",
    "\n",
    "print(mission_report(90, 7920, \"Moon\", 90000, 300000))"
   ]
  },
  {
   "cell_type": "code",
   "execution_count": 6,
   "metadata": {},
   "outputs": [
    {
     "name": "stdout",
     "output_type": "stream",
     "text": [
      "\n",
      "    Mission to Moon\n",
      "    Total travel time: 8010 minutes\n",
      "    Total fuel left: 390000\n",
      "    \n"
     ]
    }
   ],
   "source": [
    "def mission_report(dest, *Min, **fuelR):\n",
    "    return f\"\"\"\n",
    "    Mission to {dest}\n",
    "    Total travel time: {sum(Min)} minutes\n",
    "    Total fuel left: {sum(fuelR.values())}\n",
    "    \"\"\"\n",
    "\n",
    "print(mission_report(\"Moon\", 35, 55, 7920, main=300000, external=90000))"
   ]
  },
  {
   "cell_type": "code",
   "execution_count": 17,
   "metadata": {},
   "outputs": [
    {
     "name": "stdout",
     "output_type": "stream",
     "text": [
      "\n",
      "    Mission to Moon\n",
      "    Total travel time: 8010 minutes\n",
      "    Total fuel left: 390000\n",
      "    main tank --> 300000 gallons left\n",
      "external tank --> 90000 gallons left\n",
      "\n"
     ]
    }
   ],
   "source": [
    "def mission_report(dest, *min, **fuelR):\n",
    "    main_report = f\"\"\"\n",
    "    Mission to {dest}\n",
    "    Total travel time: {sum(min)} minutes\n",
    "    Total fuel left: {sum(fuelR.values())}\n",
    "    \"\"\"\n",
    "    for tank_name, gallons in fuelR.items():\n",
    "        main_report += f\"{tank_name} tank --> {gallons} gallons left\\n\"\n",
    "    return main_report\n",
    "\n",
    "print(mission_report(\"Moon\", 35, 55, 7920, main=300000, external=90000))"
   ]
  }
 ],
 "metadata": {
  "interpreter": {
   "hash": "efa0177aa75c7c6137dade5b95f97244408009c15cc590c170b59c54e6064a1a"
  },
  "kernelspec": {
   "display_name": "Python 3.10.2 64-bit",
   "language": "python",
   "name": "python3"
  },
  "language_info": {
   "codemirror_mode": {
    "name": "ipython",
    "version": 3
   },
   "file_extension": ".py",
   "mimetype": "text/x-python",
   "name": "python",
   "nbconvert_exporter": "python",
   "pygments_lexer": "ipython3",
   "version": "3.10.2"
  },
  "orig_nbformat": 4
 },
 "nbformat": 4,
 "nbformat_minor": 2
}

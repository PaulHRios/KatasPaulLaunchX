{
 "cells": [
  {
   "cell_type": "markdown",
   "metadata": {},
   "source": [
    "Author: Paúl Eduardo Hernández Ríos"
   ]
  },
  {
   "cell_type": "markdown",
   "metadata": {},
   "source": [
    "# Practice 1. Asteroid detection system\n",
    "\n",
    "If the asteroid travels faster than 25km/s a warning will be sent."
   ]
  },
  {
   "cell_type": "code",
   "execution_count": 2,
   "metadata": {},
   "outputs": [
    {
     "name": "stdout",
     "output_type": "stream",
     "text": [
      "Warning: The asteroid represents a risk. Asteroid speed: 26.0 km/s\n"
     ]
    }
   ],
   "source": [
    "speed = input(\"Enter the recorded speed of the asteroid: \")\n",
    "speed = float(speed)\n",
    "if speed > 25:\n",
    "    print(\"Warning: The asteroid represents a risk. Asteroid speed:\",speed,\"km/s\")\n",
    "else:\n",
    "    print(\"There is no danger. Asteroid speed:\",speed,\"km/s\")\n"
   ]
  },
  {
   "cell_type": "markdown",
   "metadata": {},
   "source": [
    "# Practice 2. ELIF"
   ]
  },
  {
   "cell_type": "code",
   "execution_count": 4,
   "metadata": {},
   "outputs": [
    {
     "name": "stdout",
     "output_type": "stream",
     "text": [
      "There is no danger. Asteroid speed: 19.0 km/s\n"
     ]
    }
   ],
   "source": [
    "speed = input(\"Enter the recorded speed of the asteroid: \")\n",
    "speed = float(speed)\n",
    "if speed > 25:\n",
    "    print(\"Warning: The asteroid represents a risk. A light can be seen in the sky. Asteroid speed:\",speed,\"km/s\")\n",
    "elif speed>=20:\n",
    "    print(\"Warning: It is possible for an asteroid to produce a beam of light visible from the ground, but it is not a risk. Asteroid speed:\",speed,\"km/s\")\n",
    "else: \n",
    "    print(\"There is no danger. Asteroid speed:\",speed,\"km/s\")"
   ]
  },
  {
   "cell_type": "markdown",
   "metadata": {},
   "source": [
    "# Practice 3. Multiple conditional"
   ]
  },
  {
   "cell_type": "code",
   "execution_count": 24,
   "metadata": {},
   "outputs": [
    {
     "name": "stdout",
     "output_type": "stream",
     "text": [
      "WARNING: LOW RISK. A small, high-speed asteroid likely to disintegrate upon entering the atmosphere. Asteroid speed: 26.0 km/s Asteroid size: 10.0 meters\n"
     ]
    }
   ],
   "source": [
    "#speed = input(\"Enter the recorded speed of the asteroid:\")\n",
    "#speed = float(speed)\n",
    "#size=input(\"Enter the Asteroid size:\")\n",
    "#size=float(size)\n",
    "speed = float(26)\n",
    "size=float(10)\n",
    "if speed >= 25 and size >= 1000:\n",
    "    print(\"WARNING: IMMINENT DESTRUCTION. Very large asteroid at high speed. Asteroid speed: \",speed,\"km/s\",\"Asteroid size:\",size,\"meters\")\n",
    "elif speed >=20 and size >= 1000:\n",
    "    print(\"WARNING: HIGH RISK. Very large asteroid at moderate speed. A light is likely to be visible from Earth. Asteroid speed:\",speed,\"km/s\",\"Asteroid size:\",size,\"meters\")\n",
    "elif speed < 20 and size >= 1000:\n",
    "    print(\"WARNING: MODERATE RISK. Very large asteroid at low speed. Asteroid speed:\",speed,\"km/s\",\"Asteroid size:\",size,\"meters\")\n",
    "\n",
    "elif speed >= 25 and size >= 25:\n",
    "    print(\"WARNING: HIGH RISK. Medium asteroid at high speed. Asteroid speed:\",speed,\"km/s\",\"Asteroid size:\",size,\"meters\")\n",
    "elif speed >=20 and size >= 25:\n",
    "    print(\"WARNING: MODERATE RISK. Medium asteroid at moderate speed. A light is likely to be visible from Earth. Asteroid speed:\",speed,\"km/s\",\"Asteroid size:\",size,\"meters\")\n",
    "elif speed < 20 and size >= 25:\n",
    "    print(\"WARNING: LOW RISK. Medium asteroid at low speed. Asteroid speed:\",speed,\"km/s\",\"Asteroid size:\",size,\"meters\")\n",
    "\n",
    "elif speed >= 25 and size < 25:\n",
    "    print(\"WARNING: LOW RISK. A small, high-speed asteroid likely to disintegrate upon entering the atmosphere. Asteroid speed:\",speed,\"km/s\",\"Asteroid size:\",size,\"meters\")\n",
    "elif speed >=20 and size < 25:\n",
    "    print(\"There is no danger. Small asteroid at moderate speed. A light is likely to be visible from the ground, it is also likely to disintegrate upon entering the atmosphere. Asteroid speed:\",speed,\"km/s\",\"Asteroid size:: \",size,\"meters\")\n",
    "elif speed < 20 and size < 25:\n",
    "    print(\"There is no danger. Small asteroid at low speed. It will disintegrate in the atmosphere. Asteroid speed:\",speed,\"km/s\",\"Asteroid size:\",size,\"meters\")\n"
   ]
  }
 ],
 "metadata": {
  "interpreter": {
   "hash": "efa0177aa75c7c6137dade5b95f97244408009c15cc590c170b59c54e6064a1a"
  },
  "kernelspec": {
   "display_name": "Python 3.10.2 64-bit",
   "language": "python",
   "name": "python3"
  },
  "language_info": {
   "codemirror_mode": {
    "name": "ipython",
    "version": 3
   },
   "file_extension": ".py",
   "mimetype": "text/x-python",
   "name": "python",
   "nbconvert_exporter": "python",
   "pygments_lexer": "ipython3",
   "version": "3.10.2"
  },
  "orig_nbformat": 4
 },
 "nbformat": 4,
 "nbformat_minor": 2
}
